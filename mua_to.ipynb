{
  "nbformat": 4,
  "nbformat_minor": 0,
  "metadata": {
    "colab": {
      "name": "mua_to.ipynb",
      "provenance": [],
      "collapsed_sections": [],
      "authorship_tag": "ABX9TyM1gnepBgXfiGP78kTyiBDg",
      "include_colab_link": true
    },
    "kernelspec": {
      "name": "python3",
      "display_name": "Python 3"
    },
    "language_info": {
      "name": "python"
    }
  },
  "cells": [
    {
      "cell_type": "markdown",
      "metadata": {
        "id": "view-in-github",
        "colab_type": "text"
      },
      "source": [
        "<a href=\"https://colab.research.google.com/github/disneyono/oono/blob/main/mua_to.ipynb\" target=\"_parent\"><img src=\"https://colab.research.google.com/assets/colab-badge.svg\" alt=\"Open In Colab\"/></a>"
      ]
    },
    {
      "cell_type": "code",
      "execution_count": null,
      "metadata": {
        "colab": {
          "base_uri": "https://localhost:8080/"
        },
        "id": "q-Rc6axsk0zk",
        "outputId": "8515b2f3-37e1-471a-c662-4471fd34a6bc"
      },
      "outputs": [
        {
          "output_type": "stream",
          "name": "stdout",
          "text": [
            "Looking in indexes: https://pypi.org/simple, https://us-python.pkg.dev/colab-wheels/public/simple/\n",
            "Requirement already satisfied: janome in /usr/local/lib/python3.7/dist-packages (0.4.2)\n",
            "灯(12) 光(11) 瓦斯(8) 中(7) 電灯(7) 管(7) 電流(7) 一(6) 年(6) 管内(6) の(5) もの(5) 空気(5) 稀薄(5) 色(5) 点(5) 日(5) 十(4) よう(4) 事(4) これ(4) ため(4) 度(4) 故(4) 弁(4) 月(4) ムーア(3) 寺田(3) 寅彦(3) 入力(3) 者(3) 普通(3) 室(3) 硝子(3) .(3) -------------------------------------------------------(2) 例(2) 酔(2) 興(2) きょう(2) 説明(2) 地(2) １(2) 字(2) 上げ(2) さ(2) 数(2) 尺(2) 二(2) 発明(2) "
          ]
        }
      ],
      "source": [
        "!pip install janome\n",
        "\n",
        "from janome.tokenizer import Tokenizer\n",
        "import zipfile\n",
        "import os.path, urllib.request as req\n",
        "\n",
        "# ZIPファイルをダウンロード --- (※1)\n",
        "url = \"http://www.aozora.gr.jp/cards/000042/files/61021_ruby_75271.zip\"\n",
        "local = \"61021_ruby_75271.zip\"\n",
        "if not os.path.exists(local):\n",
        "    print(\"ZIPファイルをダウンロード\")\n",
        "    req.urlretrieve(url, local)\n",
        "\n",
        "# ZIPファイル内のテキストファイルを読む --- (※2)\n",
        "zf = zipfile.ZipFile(local, 'r') # zipファイルを読む\n",
        "fp= zf.open('mua_to.txt', 'r') # アーカイブ内のテキストを読む\n",
        "bindata = fp.read()\n",
        "txt = bindata.decode('shift_jis') # テキストがShift_JISなのでデコード\n",
        "\n",
        "# 形態素解析オブジェクトの生成 --- (※3)\n",
        "t = Tokenizer()\n",
        "\n",
        "# テキストを一行ずつ処理 --- (※4)\n",
        "word_dic = {}\n",
        "lines = txt.split(\"\\r\\n\")\n",
        "for line in lines:\n",
        "    malist = t.tokenize(line)\n",
        "    for w in malist:\n",
        "        word = w.surface\n",
        "        ps = w.part_of_speech # 品詞\n",
        "        if ps.find('名詞') < 0: continue # 名詞だけカウント --- (※5)\n",
        "        if not word in word_dic:\n",
        "            word_dic[word] = 0\n",
        "        word_dic[word] += 1 # カウント\n",
        "\n",
        "# よく使われる単語を表示 --- (※6)\n",
        "keys = sorted(word_dic.items(), key=lambda x:x[1], reverse=True)\n",
        "for word,cnt in keys[:50]:\n",
        "    print(\"{0}({1}) \".format(word,cnt), end=\"\")"
      ]
    },
    {
      "cell_type": "code",
      "source": [
        "from google.colab import drive\n",
        "drive.mount('/content/gdrive')\n",
        "%cd gdrive/MyDrive/検索技術/\n",
        "!pip install gensim\n",
        "from janome.tokenizer import Tokenizer\n",
        "from gensim.models import word2vec\n",
        "import re\n",
        "\n",
        "# テキストファイルの読み込み --- (※1)\n",
        "bindata = open('mua_to.txt', 'rb').read()\n",
        "text = bindata.decode('shift_jis')\n",
        "\n",
        "# テキストの先頭にあるヘッダとフッタを削除 --- (※2)\n",
        "text = re.split(r'\\-{5,}',text)[2]\n",
        "text = re.split(r'底本：', text)[0]\n",
        "text = text.strip()\n",
        "\n",
        "# 形態素解析 --- (※3)\n",
        "t = Tokenizer()\n",
        "results = []\n",
        "# テキストを一行ずつ処理する\n",
        "lines = text.split(\"\\r\\n\")\n",
        "for line in lines:\n",
        "    s = line\n",
        "    s = s.replace('｜', '')\n",
        "    s = re.sub(r'《.+?》', '', s) # ルビを削除\n",
        "    s = re.sub(r'［＃.+?］', '', s) # 入力注を削除\n",
        "    tokens = t.tokenize(s) # 形態素解析\n",
        "    # 必要な語句だけを対象とする --- (※4)\n",
        "    r = []\n",
        "    for tok in tokens:\n",
        "        if tok.base_form == \"*\": # 単語の基本系を採用\n",
        "            w = tok.surface\n",
        "        else:\n",
        "            w = tok.base_form\n",
        "        ps = tok.part_of_speech # 品詞情報\n",
        "        hinsi = ps.split(',')[0]\n",
        "        if hinsi in ['名詞', '形容詞', '動詞', '記号']:\n",
        "            r.append(w)\n",
        "    rl = (\" \".join(r)).strip()\n",
        "    results.append(rl)\n",
        "    #print(rl) # --- 画面に分かち書きした行を表示\n",
        "\n",
        "# 書き込み先テキストを開く --- (※5)\n",
        "wakati_file = 'mua_to.wakati'\n",
        "with open(wakati_file, 'w', encoding='utf-8') as fp:\n",
        "    fp.write(\"\\n\".join(results))\n",
        "\n",
        "# Word2Vecでモデルを作成 --- (※6)\n",
        "data = word2vec.LineSentence(wakati_file)\n",
        "model = word2vec.Word2Vec(data, \n",
        "    size=200, window=10, hs=1, min_count=2, sg=1)\n",
        "model.save('mua_to.model')\n",
        "print('ok')\n",
        "\n",
        "\n",
        "\n"
      ],
      "metadata": {
        "colab": {
          "base_uri": "https://localhost:8080/"
        },
        "id": "sTYh787flp-M",
        "outputId": "11c5515e-6c38-4683-c53f-9ef47cda2b2d"
      },
      "execution_count": null,
      "outputs": [
        {
          "output_type": "stream",
          "name": "stdout",
          "text": [
            "Mounted at /content/gdrive\n",
            "/content/gdrive/MyDrive/検索技術\n",
            "Looking in indexes: https://pypi.org/simple, https://us-python.pkg.dev/colab-wheels/public/simple/\n",
            "Requirement already satisfied: gensim in /usr/local/lib/python3.7/dist-packages (3.6.0)\n",
            "Requirement already satisfied: smart-open>=1.2.1 in /usr/local/lib/python3.7/dist-packages (from gensim) (5.2.1)\n",
            "Requirement already satisfied: numpy>=1.11.3 in /usr/local/lib/python3.7/dist-packages (from gensim) (1.21.6)\n",
            "Requirement already satisfied: six>=1.5.0 in /usr/local/lib/python3.7/dist-packages (from gensim) (1.15.0)\n",
            "Requirement already satisfied: scipy>=0.18.1 in /usr/local/lib/python3.7/dist-packages (from gensim) (1.7.3)\n",
            "ok\n"
          ]
        }
      ]
    },
    {
      "cell_type": "code",
      "source": [
        "from gensim.models import word2vec\n",
        "\n",
        "\n",
        "model = word2vec.Word2Vec.load('mua_to.model')\n",
        "\n",
        "for word in ['電流']:\n",
        "    words = model.most_similar(positive=[word])\n",
        "    n = [w[0] for w in words]\n",
        "    print(word,\"=\", \",\".join(n))\n",
        "\n"
      ],
      "metadata": {
        "colab": {
          "base_uri": "https://localhost:8080/"
        },
        "id": "YAkTIwwfnxc4",
        "outputId": "1f19beb9-99fc-4d17-e8eb-e7814298c77b"
      },
      "execution_count": null,
      "outputs": [
        {
          "output_type": "stream",
          "name": "stdout",
          "text": [
            "電流 = 、,。,なる,管内,光,瓦斯,仕掛け,灯,管,弁\n"
          ]
        },
        {
          "output_type": "stream",
          "name": "stderr",
          "text": [
            "/usr/local/lib/python3.7/dist-packages/ipykernel_launcher.py:7: DeprecationWarning: Call to deprecated `most_similar` (Method will be removed in 4.0.0, use self.wv.most_similar() instead).\n",
            "  import sys\n"
          ]
        }
      ]
    }
  ]
}